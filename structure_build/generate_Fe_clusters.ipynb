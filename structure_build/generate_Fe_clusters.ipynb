{
 "cells": [
  {
   "cell_type": "code",
   "execution_count": 14,
   "id": "9d67dbae",
   "metadata": {},
   "outputs": [],
   "source": [
    "import sys\n",
    "import os\n",
    "\n",
    "path = \"../visualization\"\n",
    "sys.path.append(os.path.abspath(path))\n",
    "from ase_nglview import view_ngl\n",
    "\n",
    "import numpy as np\n",
    "from ase.cluster.icosahedron import Icosahedron\n",
    "from ase.build import bulk\n",
    "from ase.io import write\n",
    "\n",
    "def generate_spherical_cluster(symbol, structure, lattice_constant, target_N, cell_size, repeat=(6,6,6)):\n",
    "    \"\"\"\n",
    "    bcc や fcc のバルク構造を十分大きく繰り返し、\n",
    "    原点近傍から距離の近い順に target_N 個の原子を抜き出して球状クラスターを作成する。\n",
    "\n",
    "    Parameters\n",
    "    ----------\n",
    "    symbol : str\n",
    "        元素記号（例: 'Fe'）\n",
    "    structure : str\n",
    "        結晶構造 ('bcc', 'fcc' など)\n",
    "    lattice_constant : float\n",
    "        格子定数（Å）\n",
    "    target_N : int\n",
    "        取り出す原子数\n",
    "    repeat : tuple of int\n",
    "        バルクを繰り返す次数\n",
    "\n",
    "    Returns\n",
    "    -------\n",
    "    atoms : ase.Atoms\n",
    "        生成されたクラスター\n",
    "    \"\"\"\n",
    "    # ① バルク構造を生成し、repeat で拡大\n",
    "    bulk_system = bulk(symbol, structure, a=lattice_constant).repeat(repeat)\n",
    "\n",
    "    # ② クラスターの中心をバルクのセル中心に設定\n",
    "    cell = bulk_system.get_cell()\n",
    "    center = np.sum(cell.array, axis=0) / 2.0\n",
    "\n",
    "    # ③ すべての原子と中心との距離を計算 → 近い順に target_N 個を選択\n",
    "    distances = np.linalg.norm(bulk_system.get_positions() - center, axis=1)\n",
    "    indices = np.argsort(distances)[:target_N]\n",
    "\n",
    "    # ④ 選択した原子のみ抜き出して返す\n",
    "    cluster = bulk_system[indices]\n",
    "    \n",
    "    cluster.set_cell([cell_size]*3)\n",
    "    cluster.center()\n",
    "    cluster.set_pbc([True, True, True])\n",
    "    return cluster"
   ]
  },
  {
   "cell_type": "markdown",
   "id": "bf7dbd41",
   "metadata": {},
   "source": [
    "## Fe55 (icosahedral)"
   ]
  },
  {
   "cell_type": "code",
   "execution_count": 15,
   "id": "255ec936",
   "metadata": {},
   "outputs": [
    {
     "data": {
      "application/vnd.jupyter.widget-view+json": {
       "model_id": "2336dc7e650f4a2da78161d465a8b4e3",
       "version_major": 2,
       "version_minor": 0
      },
      "text/plain": [
       "NGLWidget()"
      ]
     },
     "metadata": {},
     "output_type": "display_data"
    }
   ],
   "source": [
    "# Fe の格子定数（bcc, T=300K 近傍）約 2.866 Å\n",
    "fe_a0 = 2.866\n",
    "\n",
    "# 1) Fe55 はイコサヘドラル構造（noshells=3 → 1+12+42=55 atoms）\n",
    "fe55 = Icosahedron('Fe', noshells=3, latticeconstant=fe_a0)\n",
    "cell_size = 20.0  # Å\n",
    "\n",
    "fe55.set_cell([cell_size]*3)\n",
    "fe55.center()\n",
    "fe55.set_pbc([True, True, True])\n",
    "\n",
    "view_ngl(fe55)"
   ]
  },
  {
   "cell_type": "code",
   "execution_count": 16,
   "id": "3e9568bd",
   "metadata": {},
   "outputs": [],
   "source": [
    "write('Fe55.xyz', fe55)"
   ]
  },
  {
   "cell_type": "markdown",
   "id": "ffa7bae9",
   "metadata": {},
   "source": [
    "## Fe80"
   ]
  },
  {
   "cell_type": "code",
   "execution_count": 21,
   "id": "82e5d4f4",
   "metadata": {},
   "outputs": [
    {
     "data": {
      "application/vnd.jupyter.widget-view+json": {
       "model_id": "d5ce5ac78d5a4e4b937920df4ff5b37f",
       "version_major": 2,
       "version_minor": 0
      },
      "text/plain": [
       "NGLWidget()"
      ]
     },
     "metadata": {},
     "output_type": "display_data"
    }
   ],
   "source": [
    "fe80 = generate_spherical_cluster('Fe', 'bcc', fe_a0, target_N=80, cell_size=cell_size, repeat=(6,6,6))\n",
    "view_ngl(fe80)"
   ]
  },
  {
   "cell_type": "code",
   "execution_count": 22,
   "id": "52ad9fc9",
   "metadata": {},
   "outputs": [],
   "source": [
    "write('Fe80.xyz', fe80)"
   ]
  },
  {
   "cell_type": "markdown",
   "id": "7034356a",
   "metadata": {},
   "source": [
    "## Fe100"
   ]
  },
  {
   "cell_type": "code",
   "execution_count": 23,
   "id": "38a2670f",
   "metadata": {},
   "outputs": [
    {
     "data": {
      "application/vnd.jupyter.widget-view+json": {
       "model_id": "3568548f030044e7a0c2dbe5a043dc0a",
       "version_major": 2,
       "version_minor": 0
      },
      "text/plain": [
       "NGLWidget()"
      ]
     },
     "metadata": {},
     "output_type": "display_data"
    }
   ],
   "source": [
    "fe100 = generate_spherical_cluster('Fe', 'bcc', fe_a0, target_N=100, cell_size=cell_size, repeat=(6,6,6))\n",
    "view_ngl(fe100)"
   ]
  },
  {
   "cell_type": "code",
   "execution_count": 24,
   "id": "90fe1ec3",
   "metadata": {},
   "outputs": [],
   "source": [
    "write('Fe100.xyz', fe100)"
   ]
  },
  {
   "cell_type": "markdown",
   "id": "63e34899",
   "metadata": {},
   "source": [
    "## Fe120"
   ]
  },
  {
   "cell_type": "code",
   "execution_count": 25,
   "id": "06914259",
   "metadata": {},
   "outputs": [
    {
     "data": {
      "application/vnd.jupyter.widget-view+json": {
       "model_id": "c87277a8e8614be597a5d7ff24c47ab9",
       "version_major": 2,
       "version_minor": 0
      },
      "text/plain": [
       "NGLWidget()"
      ]
     },
     "metadata": {},
     "output_type": "display_data"
    }
   ],
   "source": [
    "fe120 = generate_spherical_cluster('Fe', 'bcc', fe_a0, target_N=120, cell_size=cell_size, repeat=(6,6,6))\n",
    "view_ngl(fe120)"
   ]
  },
  {
   "cell_type": "code",
   "execution_count": 26,
   "id": "49779902",
   "metadata": {},
   "outputs": [],
   "source": [
    "write('Fe120.xyz', fe120)"
   ]
  },
  {
   "cell_type": "code",
   "execution_count": null,
   "id": "8f0a0984",
   "metadata": {},
   "outputs": [],
   "source": []
  }
 ],
 "metadata": {
  "kernelspec": {
   "display_name": "fair-chem-cpu",
   "language": "python",
   "name": "python3"
  },
  "language_info": {
   "codemirror_mode": {
    "name": "ipython",
    "version": 3
   },
   "file_extension": ".py",
   "mimetype": "text/x-python",
   "name": "python",
   "nbconvert_exporter": "python",
   "pygments_lexer": "ipython3",
   "version": "3.12.10"
  }
 },
 "nbformat": 4,
 "nbformat_minor": 5
}
